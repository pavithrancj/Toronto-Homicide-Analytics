{
 "cells": [
  {
   "cell_type": "code",
   "execution_count": 1,
   "id": "cf64b969",
   "metadata": {},
   "outputs": [],
   "source": [
    "import pandas as pd\n",
    "from sklearn.model_selection import train_test_split\n",
    "from sklearn.tree import DecisionTreeClassifier\n",
    "from sklearn.metrics import accuracy_score, classification_report, confusion_matrix\n",
    "from sklearn.preprocessing import LabelEncoder  # Add this import"
   ]
  },
  {
   "cell_type": "code",
   "execution_count": 2,
   "id": "0cc09a8c",
   "metadata": {},
   "outputs": [
    {
     "name": "stdout",
     "output_type": "stream",
     "text": [
      "              X             Y  OBJECTID EVENT_UNIQUE_ID  \\\n",
      "0 -8.837972e+06  5.416827e+06         1   GO-2004111878   \n",
      "1 -8.820276e+06  5.431728e+06         2   GO-2004125755   \n",
      "2 -8.817271e+06  5.436217e+06         3   GO-2004136086   \n",
      "3 -8.842597e+06  5.414587e+06         4   GO-2004148623   \n",
      "4 -8.816934e+06  5.438174e+06         5   GO-2004148619   \n",
      "\n",
      "                 OCC_DATE  OCC_YEAR OCC_MONTH  OCC_DAY   OCC_DOW  OCC_DOY  \\\n",
      "0  2004/01/03 05:00:00+00      2004   January        3  Saturday        3   \n",
      "1  2004/01/08 05:00:00+00      2004   January        8  Thursday        8   \n",
      "2  2004/01/08 05:00:00+00      2004   January        8  Thursday        8   \n",
      "3  2004/01/25 05:00:00+00      2004   January       25    Sunday       25   \n",
      "4  2004/01/25 05:00:00+00      2004   January       25    Sunday       25   \n",
      "\n",
      "  DIVISION HOMICIDE_TYPE HOOD_158         NEIGHBOURHOOD_158 HOOD_140  \\\n",
      "0      D53         Other       98       Rosedale-Moore Park       98   \n",
      "1      D42      Shooting      142              Woburn North      137   \n",
      "2      D42      Shooting      146              Malvern East      132   \n",
      "3      D13      Shooting      171  Junction-Wallace Emerson       93   \n",
      "4      D42      Shooting      144       Morningside Heights      131   \n",
      "\n",
      "                          NEIGHBOURHOOD_140  LONG_WGS84  LAT_WGS84  \n",
      "0                  Rosedale-Moore Park (98)  -79.392851  43.685020  \n",
      "1                              Woburn (137)  -79.233887  43.781741  \n",
      "2                             Malvern (132)  -79.206894  43.810849  \n",
      "3  Dovercourt-Wallace Emerson-Junction (93)  -79.434396  43.670466  \n",
      "4                               Rouge (131)  -79.203862  43.823535  \n"
     ]
    }
   ],
   "source": [
    "#import data\n",
    "df = pd.read_csv(\"Homicides_Open_Data.csv\")\n",
    "print(df.head())\n"
   ]
  },
  {
   "cell_type": "code",
   "execution_count": 3,
   "id": "ef29a3f0",
   "metadata": {},
   "outputs": [
    {
     "name": "stdout",
     "output_type": "stream",
     "text": [
      "              X             Y  OBJECTID   OCC_DOW  OCC_DOY HOMICIDE_TYPE  \\\n",
      "0 -8.837972e+06  5.416827e+06         1  Saturday        3         Other   \n",
      "1 -8.820276e+06  5.431728e+06         2  Thursday        8      Shooting   \n",
      "2 -8.817271e+06  5.436217e+06         3  Thursday        8      Shooting   \n",
      "3 -8.842597e+06  5.414587e+06         4    Sunday       25      Shooting   \n",
      "4 -8.816934e+06  5.438174e+06         5    Sunday       25      Shooting   \n",
      "\n",
      "   HOOD_158  NEIGHBOURHOOD_158 HOOD_140  \\\n",
      "0       150                113       98   \n",
      "1        39                143      137   \n",
      "2        43                 80      132   \n",
      "3        69                 67       93   \n",
      "4        41                 87      131   \n",
      "\n",
      "                          NEIGHBOURHOOD_140  ...  DIVISION_D32  DIVISION_D33  \\\n",
      "0                  Rosedale-Moore Park (98)  ...             0             0   \n",
      "1                              Woburn (137)  ...             0             0   \n",
      "2                             Malvern (132)  ...             0             0   \n",
      "3  Dovercourt-Wallace Emerson-Junction (93)  ...             0             0   \n",
      "4                               Rouge (131)  ...             0             0   \n",
      "\n",
      "  DIVISION_D41  DIVISION_D42  DIVISION_D43 DIVISION_D51  DIVISION_D52  \\\n",
      "0            0             0             0            0             0   \n",
      "1            0             1             0            0             0   \n",
      "2            0             1             0            0             0   \n",
      "3            0             0             0            0             0   \n",
      "4            0             1             0            0             0   \n",
      "\n",
      "   DIVISION_D53  DIVISION_D54  DIVISION_D55  \n",
      "0             1             0             0  \n",
      "1             0             0             0  \n",
      "2             0             0             0  \n",
      "3             0             0             0  \n",
      "4             0             0             0  \n",
      "\n",
      "[5 rows x 32 columns]\n"
     ]
    }
   ],
   "source": [
    "# Drop the 'EVENT_UNIQUE_ID' column\n",
    "df = df.drop(columns=['EVENT_UNIQUE_ID'])\n",
    "\n",
    "# Convert 'OCC_MONTH' to numeric\n",
    "df['OCC_MONTH'] = pd.to_numeric(df['OCC_MONTH'], errors='coerce')\n",
    "\n",
    "# Derive features like the season or trends over time\n",
    "df['Season'] = pd.cut(df['OCC_MONTH'], bins=[0, 3, 6, 9, 12], labels=['Spring', 'Summer', 'Fall', 'Winter'])\n",
    "\n",
    "# Drop the original OCC_YEAR column\n",
    "df = df.drop(columns=['OCC_YEAR'])\n",
    "\n",
    "# Convert 'OCC_DATE' to datetime\n",
    "df['OCC_DATE'] = pd.to_datetime(df['OCC_DATE'])\n",
    "\n",
    "# Extract hour and minute features from 'OCC_DATE'\n",
    "df['Hour'] = df['OCC_DATE'].dt.hour\n",
    "df['Minute'] = df['OCC_DATE'].dt.minute\n",
    "\n",
    "# Create features like the day of the week or holidays\n",
    "df['DayOfWeek'] = df['OCC_DATE'].dt.day_name()\n",
    "\n",
    "# Drop the original OCC_MONTH, OCC_DAY, and OCC_DATE columns\n",
    "df = df.drop(columns=['OCC_MONTH', 'OCC_DAY', 'OCC_DATE'])\n",
    "\n",
    "# Encode the categorical variable DIVISION\n",
    "df = pd.get_dummies(df, columns=['DIVISION'], drop_first=True)\n",
    "\n",
    "# Use label encoding for the categorical variables HOOD_158 and NEIGHBOURHOOD_158\n",
    "label_encoder = LabelEncoder()\n",
    "df['HOOD_158'] = label_encoder.fit_transform(df['HOOD_158'])\n",
    "df['NEIGHBOURHOOD_158'] = label_encoder.fit_transform(df['NEIGHBOURHOOD_158'])\n",
    "\n",
    "# Display the modified DataFrame\n",
    "print(df.head())\n"
   ]
  },
  {
   "cell_type": "code",
   "execution_count": 4,
   "id": "ca92609f",
   "metadata": {},
   "outputs": [
    {
     "name": "stdout",
     "output_type": "stream",
     "text": [
      "X_train shape: (1100, 31)\n",
      "X_test shape: (276, 31)\n",
      "y_train shape: (1100,)\n",
      "y_test shape: (276,)\n"
     ]
    }
   ],
   "source": [
    "# Define features (X) and target variable (y)\n",
    "X = df.drop(columns=['HOMICIDE_TYPE'])\n",
    "y = df['HOMICIDE_TYPE']\n",
    "\n",
    "# Split the data into training and testing sets\n",
    "X_train, X_test, y_train, y_test = train_test_split(X, y, test_size=0.2, random_state=42)\n",
    "\n",
    "# Display the shapes of the training and testing sets\n",
    "print(\"X_train shape:\", X_train.shape)\n",
    "print(\"X_test shape:\", X_test.shape)\n",
    "print(\"y_train shape:\", y_train.shape)\n",
    "print(\"y_test shape:\", y_test.shape)\n"
   ]
  },
  {
   "cell_type": "code",
   "execution_count": 6,
   "id": "c289ecb1",
   "metadata": {},
   "outputs": [
    {
     "name": "stdout",
     "output_type": "stream",
     "text": [
      "X_train_encoded shape: (1100, 305)\n",
      "X_test_encoded shape: (276, 253)\n"
     ]
    }
   ],
   "source": [
    "# One-hot encode categorical variables\n",
    "X_train_encoded = pd.get_dummies(X_train, drop_first=True)\n",
    "X_test_encoded = pd.get_dummies(X_test, drop_first=True)\n",
    "\n",
    "# Display the shapes of the encoded training and testing sets\n",
    "print(\"X_train_encoded shape:\", X_train_encoded.shape)\n",
    "print(\"X_test_encoded shape:\", X_test_encoded.shape)\n"
   ]
  },
  {
   "cell_type": "code",
   "execution_count": 7,
   "id": "48ff1c85",
   "metadata": {},
   "outputs": [
    {
     "name": "stdout",
     "output_type": "stream",
     "text": [
      "X_train_encoded shape (after alignment): (1100, 311)\n",
      "X_test_encoded shape (after alignment): (276, 311)\n"
     ]
    }
   ],
   "source": [
    "# Align the training and testing sets to have the same columns\n",
    "X_train_encoded, X_test_encoded = X_train_encoded.align(X_test_encoded, join='outer', axis=1, fill_value=0)\n",
    "\n",
    "# Display the shapes of the aligned training and testing sets\n",
    "print(\"X_train_encoded shape (after alignment):\", X_train_encoded.shape)\n",
    "print(\"X_test_encoded shape (after alignment):\", X_test_encoded.shape)\n"
   ]
  },
  {
   "cell_type": "code",
   "execution_count": 8,
   "id": "c4797fee",
   "metadata": {},
   "outputs": [
    {
     "name": "stdout",
     "output_type": "stream",
     "text": [
      "Decision Tree model trained successfully!\n"
     ]
    }
   ],
   "source": [
    "# Create a Decision Tree model\n",
    "model = DecisionTreeClassifier(random_state=42)\n",
    "\n",
    "# Train the model\n",
    "model.fit(X_train_encoded, y_train)\n",
    "\n",
    "# Display a message indicating that the model has been trained\n",
    "print(\"Decision Tree model trained successfully!\")\n"
   ]
  },
  {
   "cell_type": "code",
   "execution_count": 9,
   "id": "28036ca7",
   "metadata": {},
   "outputs": [
    {
     "name": "stdout",
     "output_type": "stream",
     "text": [
      "Accuracy: 0.5181159420289855\n"
     ]
    }
   ],
   "source": [
    "# Make predictions on the test set\n",
    "predictions = model.predict(X_test_encoded)\n",
    "\n",
    "# Evaluate the model\n",
    "accuracy = accuracy_score(y_test, predictions)\n",
    "print(\"Accuracy:\", accuracy)\n",
    "\n",
    "# Other evaluation metrics (if needed)\n",
    "# e.g., classification_report, confusion_matrix\n",
    "# print(classification_report(y_test, predictions))\n",
    "# print(confusion_matrix(y_test, predictions))\n"
   ]
  },
  {
   "cell_type": "code",
   "execution_count": 10,
   "id": "9e2cab00",
   "metadata": {},
   "outputs": [],
   "source": [
    "from sklearn.metrics import classification_report, confusion_matrix\n",
    "import seaborn as sns\n",
    "import matplotlib.pyplot as plt"
   ]
  },
  {
   "cell_type": "code",
   "execution_count": 11,
   "id": "999ffaa5",
   "metadata": {},
   "outputs": [
    {
     "name": "stdout",
     "output_type": "stream",
     "text": [
      "Classification Report:\n",
      "              precision    recall  f1-score   support\n",
      "\n",
      "       Other       0.42      0.30      0.35        84\n",
      "    Shooting       0.62      0.71      0.66       135\n",
      "    Stabbing       0.35      0.39      0.37        57\n",
      "\n",
      "    accuracy                           0.52       276\n",
      "   macro avg       0.46      0.46      0.46       276\n",
      "weighted avg       0.51      0.52      0.51       276\n",
      "\n"
     ]
    }
   ],
   "source": [
    "# Additional evaluation metrics\n",
    "print(\"Classification Report:\")\n",
    "print(classification_report(y_test, predictions))"
   ]
  },
  {
   "cell_type": "code",
   "execution_count": 13,
   "id": "90af09ef",
   "metadata": {},
   "outputs": [
    {
     "data": {
      "image/png": "[encoded data removed]",
      "text/plain": [
       "<Figure size 1000x800 with 2 Axes>"
      ]
     },
     "metadata": {},
     "output_type": "display_data"
    }
   ],
   "source": [
    "# Confusion Matrix\n",
    "conf_matrix = confusion_matrix(y_test, predictions)\n",
    "\n",
    "# Visualize the confusion matrix\n",
    "plt.figure(figsize=(10, 8))\n",
    "sns.heatmap(conf_matrix, annot=True, fmt='d', cmap='Blues', xticklabels=model.classes_, yticklabels=model.classes_)\n",
    "plt.title(\"Confusion Matrix\")\n",
    "plt.xlabel(\"Predicted Label\")\n",
    "plt.ylabel(\"True Label\")\n",
    "plt.show()"
   ]
  }
 ],
 "metadata": {
  "kernelspec": {
   "display_name": "Python 3 (ipykernel)",
   "language": "python",
   "name": "python3"
  },
  "language_info": {
   "codemirror_mode": {
    "name": "ipython",
    "version": 3
   },
   "file_extension": ".py",
   "mimetype": "text/x-python",
   "name": "python",
   "nbconvert_exporter": "python",
   "pygments_lexer": "ipython3",
   "version": "3.10.13"
  }
 },
 "nbformat": 4,
 "nbformat_minor": 5
}
